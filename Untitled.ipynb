{
 "cells": [
  {
   "cell_type": "code",
   "execution_count": 143,
   "metadata": {
    "collapsed": false
   },
   "outputs": [],
   "source": [
    "import numpy as np\n",
    "import scipy as sp\n",
    "import pandas as pd"
   ]
  },
  {
   "cell_type": "markdown",
   "metadata": {},
   "source": [
    "Используем равномерное распределение для генерации случайных координат $(x,y)$"
   ]
  },
  {
   "cell_type": "code",
   "execution_count": 144,
   "metadata": {
    "collapsed": false
   },
   "outputs": [],
   "source": [
    "def pnorm(x,dlina_viborki = 10**4):\n",
    "    x1 = abs(x)\n",
    "    check = lambda x: 1/np.sqrt(2*np.pi) * np.exp(-x**2/2)\n",
    "\n",
    "\n",
    "    def norm(viborka):\n",
    "        m = 0\n",
    "        for i in range(len(viborka[0])):\n",
    "            if check(viborka[0][i]) > viborka[1][i]:\n",
    "                m += 1\n",
    "        p = m/len(viborka[0])\n",
    "        return p\n",
    "    \n",
    "    y = np.random.uniform(0,1/np.sqrt(2*np.pi),dlina_viborki)\n",
    "    choise = np.random.uniform(0,x1,dlina_viborki)\n",
    "    viborka = np.array([choise,y])\n",
    "    popravka_pogreshnosti = 0\n",
    "    for i in range(10):\n",
    "        popravka_pogreshnosti += norm(viborka)\n",
    "    if x >= 0:\n",
    "        result = popravka_pogreshnosti/10 * (x1/np.sqrt(2 * np.pi)) + 1/2\n",
    "    else:\n",
    "        result = 1/2 - popravka_pogreshnosti/10 * (x1/np.sqrt(2 * np.pi))\n",
    "    return result"
   ]
  },
  {
   "cell_type": "markdown",
   "metadata": {},
   "source": [
    "Для вычисления значения функции распределения в точке $x$ достаточно вызвать функцию pnorm с указанием в аргументе функции значения $x$. Введите значения $x$ после исполнения команды ниже. Также можно поменять длину выборки при изменении соответствующего аргумента функции, заданного по умолчанию на значении $10^5$"
   ]
  },
  {
   "cell_type": "code",
   "execution_count": 145,
   "metadata": {
    "collapsed": false
   },
   "outputs": [
    {
     "name": "stdout",
     "output_type": "stream",
     "text": [
      "0.5\n",
      "0.691378596043\n"
     ]
    }
   ],
   "source": [
    "print(pnorm(float(input()), 10**5))"
   ]
  },
  {
   "cell_type": "markdown",
   "metadata": {},
   "source": [
    "Составим таблицу стандартного нормального распределения, скажем, для $x$ от $0$ до $3$ c шагом $0.5$ <br/> <br/> \n",
    "<div style = \"text-align:center; color:red; font-weight:bold; font-size:14px;\"> \n",
    "Примечание: может немного тормозить, поэтому можно попробовать для выборки длинной $10^4$\n",
    "</div>"
   ]
  },
  {
   "cell_type": "code",
   "execution_count": 137,
   "metadata": {
    "collapsed": false
   },
   "outputs": [
    {
     "name": "stdout",
     "output_type": "stream",
     "text": [
      "0.0 0.5\n",
      "0.5 0.691564104203\n",
      "1.0 0.841678105473\n",
      "1.5 0.934071142902\n",
      "2.0 0.979927563323\n",
      "2.5 0.992743584081\n",
      "3.0 0.997856029404\n"
     ]
    }
   ],
   "source": [
    "for i in np.linspace(0,3,7):\n",
    "    print(i, pnorm(i,10**5))"
   ]
  },
  {
   "cell_type": "markdown",
   "metadata": {},
   "source": [
    "Часть 2: многомерное нормальное "
   ]
  }
 ],
 "metadata": {
  "kernelspec": {
   "display_name": "Python 3",
   "language": "python",
   "name": "python3"
  },
  "language_info": {
   "codemirror_mode": {
    "name": "ipython",
    "version": 3
   },
   "file_extension": ".py",
   "mimetype": "text/x-python",
   "name": "python",
   "nbconvert_exporter": "python",
   "pygments_lexer": "ipython3",
   "version": "3.5.1"
  }
 },
 "nbformat": 4,
 "nbformat_minor": 0
}
